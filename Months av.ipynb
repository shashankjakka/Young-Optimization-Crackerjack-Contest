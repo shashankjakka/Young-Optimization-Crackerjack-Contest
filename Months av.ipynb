{
 "cells": [
  {
   "cell_type": "code",
   "execution_count": 1,
   "metadata": {
    "collapsed": true
   },
   "outputs": [],
   "source": [
    "import pandas as pd\n",
    "import numpy as np"
   ]
  },
  {
   "cell_type": "code",
   "execution_count": 28,
   "metadata": {
    "collapsed": true
   },
   "outputs": [],
   "source": [
    "fore=pd.read_csv('/Users/shashank/Downloads/av_or/sample_submission_BqRDhl5/demand_forecast.csv')\n",
    "dprice=pd.read_csv('/Users/shashank/Downloads/av_or/train_HO825Pf/demand_price.csv')\n",
    "pdcap=pd.read_csv('/Users/shashank/Downloads/av_or/train_HO825Pf/production_capacity.csv')\n",
    "pdcost=pd.read_csv('/Users/shashank/Downloads/av_or/train_HO825Pf/production_cost.csv')\n",
    "dcost=pd.read_csv('/Users/shashank/Downloads/av_or/train_HO825Pf/delivery_cost.csv')"
   ]
  },
  {
   "cell_type": "code",
   "execution_count": 29,
   "metadata": {
    "collapsed": true
   },
   "outputs": [],
   "source": [
    "two=fore[fore.Month==38]\n",
    "two=two[two.Demand!=0]\n",
    "two.reset_index(drop=True,inplace=True)"
   ]
  },
  {
   "cell_type": "code",
   "execution_count": 45,
   "metadata": {
    "collapsed": true
   },
   "outputs": [],
   "source": [
    "three=fore[fore.Month==39]\n",
    "three=three[three.Demand!=0]\n",
    "three.reset_index(drop=True,inplace=True)"
   ]
  },
  {
   "cell_type": "code",
   "execution_count": 30,
   "metadata": {
    "collapsed": true
   },
   "outputs": [],
   "source": [
    "# two=two.merge(dprice,on=['Product_ID','Region'])"
   ]
  },
  {
   "cell_type": "code",
   "execution_count": 31,
   "metadata": {
    "collapsed": true
   },
   "outputs": [],
   "source": [
    "dp=(dprice.groupby(['Product_ID','Region'])['Demand_price'].mean()).reset_index()\n",
    "k1=two.merge(dp,on=['Product_ID','Region'])\n",
    "k1=k1.rename(columns={'Product_ID':'Product'})\n",
    "k2=k1.merge(pdcap,on=['Product'])\n",
    "k3=k2.pivot_table('Capacity', ['Product', 'Region','Demand','Demand_price'], ['Plant','Line'])\n",
    "k3.reset_index(inplace=True)\n",
    "k3.to_excel('/Users/shashank/Desktop/monthTwo/month2tobecorrected.xlsx')"
   ]
  },
  {
   "cell_type": "code",
   "execution_count": 46,
   "metadata": {
    "collapsed": true
   },
   "outputs": [],
   "source": [
    "dp=(dprice.groupby(['Product_ID','Region'])['Demand_price'].mean()).reset_index()\n",
    "k1=three.merge(dp,on=['Product_ID','Region'])\n",
    "k1=k1.rename(columns={'Product_ID':'Product'})\n",
    "k2=k1.merge(pdcap,on=['Product'])\n",
    "k3=k2.pivot_table('Capacity', ['Product', 'Region','Demand','Demand_price'], ['Plant','Line'])\n",
    "k3.reset_index(inplace=True)\n",
    "k3.to_excel('/Users/shashank/Desktop/monthTwo/month3tobecorrected.xlsx')"
   ]
  },
  {
   "cell_type": "code",
   "execution_count": 116,
   "metadata": {
    "collapsed": true
   },
   "outputs": [],
   "source": [
    "gd=pd.read_excel('/Users/shashank/Desktop/monthTwo/month2Corrected.xlsx')"
   ]
  },
  {
   "cell_type": "code",
   "execution_count": 117,
   "metadata": {
    "collapsed": true
   },
   "outputs": [],
   "source": [
    "gd['D_A_1']=pd.Series([1]*len(gd))\n",
    "gd['D_A_2']=pd.Series([1]*len(gd))\n",
    "gd['D_B_1']=pd.Series([1]*len(gd))\n",
    "gd['D_B_2']=pd.Series([1]*len(gd))\n",
    "gd['D_B_3']=pd.Series([1]*len(gd))\n",
    "gd['D_C_1']=pd.Series([1]*len(gd))"
   ]
  },
  {
   "cell_type": "code",
   "execution_count": 118,
   "metadata": {
    "collapsed": true
   },
   "outputs": [],
   "source": [
    "A=pdcost[pdcost.Plant=='A']\n",
    "B=pdcost[pdcost.Plant=='B']\n",
    "C=pdcost[pdcost.Plant=='C']"
   ]
  },
  {
   "cell_type": "code",
   "execution_count": 92,
   "metadata": {},
   "outputs": [
    {
     "name": "stderr",
     "output_type": "stream",
     "text": [
      "/anaconda2/lib/python2.7/site-packages/ipykernel_launcher.py:1: SettingWithCopyWarning: \n",
      "A value is trying to be set on a copy of a slice from a DataFrame\n",
      "\n",
      "See the caveats in the documentation: http://pandas.pydata.org/pandas-docs/stable/indexing.html#indexing-view-versus-copy\n",
      "  \"\"\"Entry point for launching an IPython kernel.\n",
      "/anaconda2/lib/python2.7/site-packages/ipykernel_launcher.py:2: SettingWithCopyWarning: \n",
      "A value is trying to be set on a copy of a slice from a DataFrame\n",
      "\n",
      "See the caveats in the documentation: http://pandas.pydata.org/pandas-docs/stable/indexing.html#indexing-view-versus-copy\n",
      "  \n",
      "/anaconda2/lib/python2.7/site-packages/ipykernel_launcher.py:3: SettingWithCopyWarning: \n",
      "A value is trying to be set on a copy of a slice from a DataFrame\n",
      "\n",
      "See the caveats in the documentation: http://pandas.pydata.org/pandas-docs/stable/indexing.html#indexing-view-versus-copy\n",
      "  This is separate from the ipykernel package so we can avoid doing imports until\n"
     ]
    }
   ],
   "source": [
    "A.drop(['Plant'],axis=1,inplace=True)\n",
    "B.drop(['Plant'],axis=1,inplace=True)\n",
    "C.drop(['Plant'],axis=1,inplace=True)"
   ]
  },
  {
   "cell_type": "code",
   "execution_count": 93,
   "metadata": {
    "collapsed": true
   },
   "outputs": [],
   "source": [
    "A=A.rename(columns={'Product_ID':'Product'})\n",
    "B=B.rename(columns={'Product_ID':'Product'})\n",
    "C=C.rename(columns={'Product_ID':'Product'})"
   ]
  },
  {
   "cell_type": "code",
   "execution_count": 94,
   "metadata": {
    "collapsed": true
   },
   "outputs": [],
   "source": [
    "gd=gd.merge(A,on=['Product'])\n",
    "gd=gd.merge(B,on=['Product'])\n",
    "gd=gd.merge(C,on=['Product'])"
   ]
  },
  {
   "cell_type": "code",
   "execution_count": 95,
   "metadata": {
    "collapsed": true
   },
   "outputs": [],
   "source": [
    "gd=gd.rename(columns={\n",
    "    'Production_cost_x':'Production_cost_A',\n",
    "    'Production_cost_y':'Production_cost_B',\n",
    "    'Production_cost':'Production_cost_C'\n",
    "})"
   ]
  },
  {
   "cell_type": "code",
   "execution_count": 96,
   "metadata": {
    "collapsed": true
   },
   "outputs": [],
   "source": [
    "A=dcost[dcost.Plant=='A']\n",
    "B=dcost[dcost.Plant=='B']\n",
    "C=dcost[dcost.Plant=='C']"
   ]
  },
  {
   "cell_type": "code",
   "execution_count": 98,
   "metadata": {},
   "outputs": [
    {
     "name": "stderr",
     "output_type": "stream",
     "text": [
      "/anaconda2/lib/python2.7/site-packages/ipykernel_launcher.py:1: SettingWithCopyWarning: \n",
      "A value is trying to be set on a copy of a slice from a DataFrame\n",
      "\n",
      "See the caveats in the documentation: http://pandas.pydata.org/pandas-docs/stable/indexing.html#indexing-view-versus-copy\n",
      "  \"\"\"Entry point for launching an IPython kernel.\n",
      "/anaconda2/lib/python2.7/site-packages/ipykernel_launcher.py:2: SettingWithCopyWarning: \n",
      "A value is trying to be set on a copy of a slice from a DataFrame\n",
      "\n",
      "See the caveats in the documentation: http://pandas.pydata.org/pandas-docs/stable/indexing.html#indexing-view-versus-copy\n",
      "  \n",
      "/anaconda2/lib/python2.7/site-packages/ipykernel_launcher.py:3: SettingWithCopyWarning: \n",
      "A value is trying to be set on a copy of a slice from a DataFrame\n",
      "\n",
      "See the caveats in the documentation: http://pandas.pydata.org/pandas-docs/stable/indexing.html#indexing-view-versus-copy\n",
      "  This is separate from the ipykernel package so we can avoid doing imports until\n"
     ]
    }
   ],
   "source": [
    "A.drop(['Plant'],axis=1,inplace=True)\n",
    "B.drop(['Plant'],axis=1,inplace=True)\n",
    "C.drop(['Plant'],axis=1,inplace=True)"
   ]
  },
  {
   "cell_type": "code",
   "execution_count": 100,
   "metadata": {
    "collapsed": true
   },
   "outputs": [],
   "source": [
    "gd=gd.merge(A,on=['Region'])\n",
    "gd=gd.merge(B,on=['Region'])\n",
    "gd=gd.merge(C,on=['Region'])"
   ]
  },
  {
   "cell_type": "code",
   "execution_count": 133,
   "metadata": {
    "collapsed": true
   },
   "outputs": [],
   "source": [
    "temp1=pd.read_excel('/Users/shashank/Desktop/monthTwo/month2good.xlsx')\n",
    "temp2=pd.read_excel('/Users/shashank/Desktop/monthTwo/month3good.xlsx')\n"
   ]
  },
  {
   "cell_type": "code",
   "execution_count": 134,
   "metadata": {
    "collapsed": true
   },
   "outputs": [],
   "source": [
    "temp1.drop(['Plant'],axis=1,inplace=True)\n",
    "temp2.drop(['Plant'],axis=1,inplace=True)"
   ]
  },
  {
   "cell_type": "code",
   "execution_count": 135,
   "metadata": {
    "collapsed": true
   },
   "outputs": [],
   "source": [
    "temp1.sort_values(['Product'],inplace=True)\n",
    "temp2.sort_values(['Product'],inplace=True)"
   ]
  },
  {
   "cell_type": "code",
   "execution_count": 137,
   "metadata": {
    "collapsed": true
   },
   "outputs": [],
   "source": [
    "temp1.to_excel('/Users/shashank/Desktop/monthTwo/month2good2.xlsx',index=True)\n",
    "temp2.to_excel('/Users/shashank/Desktop/monthTwo/month3good2.xlsx',index=True)"
   ]
  },
  {
   "cell_type": "code",
   "execution_count": null,
   "metadata": {
    "collapsed": true
   },
   "outputs": [],
   "source": [
    "temp"
   ]
  },
  {
   "cell_type": "code",
   "execution_count": 141,
   "metadata": {},
   "outputs": [],
   "source": [
    "agg2=two.groupby(['Product_ID']).sum()['Demand'].reset_index(drop=False)\n",
    "agg3=three.groupby(['Product_ID']).sum()['Demand'].reset_index(drop=False)"
   ]
  },
  {
   "cell_type": "code",
   "execution_count": null,
   "metadata": {
    "collapsed": true
   },
   "outputs": [],
   "source": [
    "agg2.to_excel('/Users/shashank/Desktop/monthTwo/month2agg.xlsx',index=True)\n",
    "agg2.to_excel('/Users/shashank/Desktop/monthTwo/month2agg.xlsx',index=True)\n"
   ]
  }
 ],
 "metadata": {
  "kernelspec": {
   "display_name": "Python 2",
   "language": "python",
   "name": "python2"
  },
  "language_info": {
   "codemirror_mode": {
    "name": "ipython",
    "version": 2
   },
   "file_extension": ".py",
   "mimetype": "text/x-python",
   "name": "python",
   "nbconvert_exporter": "python",
   "pygments_lexer": "ipython2",
   "version": "2.7.14"
  }
 },
 "nbformat": 4,
 "nbformat_minor": 2
}
